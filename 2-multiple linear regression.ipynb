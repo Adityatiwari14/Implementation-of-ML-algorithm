{
 "cells": [
  {
   "cell_type": "code",
   "execution_count": 1,
   "id": "09fe42ee-645f-423f-a30f-2a81086d14d3",
   "metadata": {},
   "outputs": [],
   "source": [
    "import numpy as np\n",
    "import pandas as  pd\n",
    "import statsmodels.api as sm\n",
    "import matplotlib.pyplot as plt"
   ]
  },
  {
   "cell_type": "code",
   "execution_count": 2,
   "id": "2acceaf1-99d8-421f-b694-da1e9299b40f",
   "metadata": {},
   "outputs": [],
   "source": [
    "np.random.seed(123)"
   ]
  },
  {
   "cell_type": "code",
   "execution_count": 3,
   "id": "8ce9ce62-97f8-4b6d-93bd-642f452e82a1",
   "metadata": {},
   "outputs": [],
   "source": [
    "nsample = 50\n",
    "x1 = np.linspace(1,10,nsample)\n",
    "x2= np.sqrt(x1)"
   ]
  },
  {
   "cell_type": "code",
   "execution_count": 4,
   "id": "1eecae76-0684-4620-90b0-904926c9bc63",
   "metadata": {},
   "outputs": [
    {
     "data": {
      "text/plain": [
       "array([1.        , 1.18367347, 1.36734694, 1.55102041, 1.73469388])"
      ]
     },
     "execution_count": 4,
     "metadata": {},
     "output_type": "execute_result"
    }
   ],
   "source": [
    "x1[:5]"
   ]
  },
  {
   "cell_type": "code",
   "execution_count": 5,
   "id": "2362b194-4eb4-4cdc-95c8-70c47e5db9fc",
   "metadata": {},
   "outputs": [
    {
     "data": {
      "text/plain": [
       "array([1.        , 1.08796759, 1.16933611, 1.2453997 , 1.31707778])"
      ]
     },
     "execution_count": 5,
     "metadata": {},
     "output_type": "execute_result"
    }
   ],
   "source": [
    "x2[:5]"
   ]
  },
  {
   "cell_type": "code",
   "execution_count": 6,
   "id": "098cd935-7bda-4882-b22f-618175e824a4",
   "metadata": {},
   "outputs": [
    {
     "data": {
      "text/plain": [
       "array([[1.        , 1.        ],\n",
       "       [1.18367347, 1.08796759],\n",
       "       [1.36734694, 1.16933611],\n",
       "       [1.55102041, 1.2453997 ],\n",
       "       [1.73469388, 1.31707778]])"
      ]
     },
     "execution_count": 6,
     "metadata": {},
     "output_type": "execute_result"
    }
   ],
   "source": [
    "X = np.column_stack((x1, x2))\n",
    "X[:5]"
   ]
  },
  {
   "cell_type": "code",
   "execution_count": 7,
   "id": "a47ff1d6-5ad5-4909-a469-023f0cc873c9",
   "metadata": {},
   "outputs": [
    {
     "data": {
      "text/plain": [
       "array([[1.        , 1.        , 1.        ],\n",
       "       [1.        , 1.18367347, 1.08796759],\n",
       "       [1.        , 1.36734694, 1.16933611],\n",
       "       [1.        , 1.55102041, 1.2453997 ],\n",
       "       [1.        , 1.73469388, 1.31707778]])"
      ]
     },
     "execution_count": 7,
     "metadata": {},
     "output_type": "execute_result"
    }
   ],
   "source": [
    "X=sm.add_constant(X)\n",
    "X[:5]"
   ]
  },
  {
   "cell_type": "code",
   "execution_count": 8,
   "id": "5cb53197-71cd-4d69-851c-310201b3e908",
   "metadata": {},
   "outputs": [],
   "source": [
    "# b0,b1,b3\n",
    "beta=[2,0.5,10]\n",
    "#random error\n",
    "e= np.random.normal(size = nsample)\n",
    "#linear equation\n",
    "y = np.dot(X,beta)+e"
   ]
  },
  {
   "cell_type": "code",
   "execution_count": 9,
   "id": "67f82d6f-f1fe-442c-9643-717f2632678b",
   "metadata": {},
   "outputs": [
    {
     "data": {
      "text/html": [
       "<div>\n",
       "<style scoped>\n",
       "    .dataframe tbody tr th:only-of-type {\n",
       "        vertical-align: middle;\n",
       "    }\n",
       "\n",
       "    .dataframe tbody tr th {\n",
       "        vertical-align: top;\n",
       "    }\n",
       "\n",
       "    .dataframe thead th {\n",
       "        text-align: right;\n",
       "    }\n",
       "</style>\n",
       "<table border=\"1\" class=\"dataframe\">\n",
       "  <thead>\n",
       "    <tr style=\"text-align: right;\">\n",
       "      <th></th>\n",
       "      <th>y</th>\n",
       "      <th>x1</th>\n",
       "      <th>x2</th>\n",
       "    </tr>\n",
       "  </thead>\n",
       "  <tbody>\n",
       "    <tr>\n",
       "      <th>0</th>\n",
       "      <td>11.414369</td>\n",
       "      <td>1.000000</td>\n",
       "      <td>1.000000</td>\n",
       "    </tr>\n",
       "    <tr>\n",
       "      <th>1</th>\n",
       "      <td>14.468858</td>\n",
       "      <td>1.183673</td>\n",
       "      <td>1.087968</td>\n",
       "    </tr>\n",
       "    <tr>\n",
       "      <th>2</th>\n",
       "      <td>14.660013</td>\n",
       "      <td>1.367347</td>\n",
       "      <td>1.169336</td>\n",
       "    </tr>\n",
       "    <tr>\n",
       "      <th>3</th>\n",
       "      <td>13.723212</td>\n",
       "      <td>1.551020</td>\n",
       "      <td>1.245400</td>\n",
       "    </tr>\n",
       "    <tr>\n",
       "      <th>4</th>\n",
       "      <td>15.459524</td>\n",
       "      <td>1.734694</td>\n",
       "      <td>1.317078</td>\n",
       "    </tr>\n",
       "  </tbody>\n",
       "</table>\n",
       "</div>"
      ],
      "text/plain": [
       "           y        x1        x2\n",
       "0  11.414369  1.000000  1.000000\n",
       "1  14.468858  1.183673  1.087968\n",
       "2  14.660013  1.367347  1.169336\n",
       "3  13.723212  1.551020  1.245400\n",
       "4  15.459524  1.734694  1.317078"
      ]
     },
     "execution_count": 9,
     "metadata": {},
     "output_type": "execute_result"
    }
   ],
   "source": [
    "sample_df = pd.DataFrame({\"y\":y,\"x1\":x1,\"x2\":x2})\n",
    "sample_df.head()"
   ]
  },
  {
   "cell_type": "code",
   "execution_count": 10,
   "id": "84288ea9-9bf4-45c1-ba6e-4225d804a5d0",
   "metadata": {},
   "outputs": [
    {
     "data": {
      "text/plain": [
       "<Figure size 640x480 with 0 Axes>"
      ]
     },
     "metadata": {},
     "output_type": "display_data"
    }
   ],
   "source": [
    "from mpl_toolkits.mplot3d import Axes3D\n",
    "fig = plt.figure()\n",
    "ax= Axes3D(fig)\n",
    "ax.scatter3D(sample_df[\"y\"],sample_df[\"x1\"],sample_df[\"x2\"])\n",
    "plt.show()"
   ]
  },
  {
   "cell_type": "code",
   "execution_count": 11,
   "id": "45640ce1-daee-42f3-ab33-8abd5a71ca26",
   "metadata": {},
   "outputs": [
    {
     "name": "stdout",
     "output_type": "stream",
     "text": [
      "                            OLS Regression Results                            \n",
      "==============================================================================\n",
      "Dep. Variable:                      y   R-squared:                       0.976\n",
      "Model:                            OLS   Adj. R-squared:                  0.975\n",
      "Method:                 Least Squares   F-statistic:                     950.0\n",
      "Date:                Mon, 13 Jan 2025   Prob (F-statistic):           9.87e-39\n",
      "Time:                        16:31:24   Log-Likelihood:                -79.344\n",
      "No. Observations:                  50   AIC:                             164.7\n",
      "Df Residuals:                      47   BIC:                             170.4\n",
      "Df Model:                           2                                         \n",
      "Covariance Type:            nonrobust                                         \n",
      "==============================================================================\n",
      "                 coef    std err          t      P>|t|      [0.025      0.975]\n",
      "------------------------------------------------------------------------------\n",
      "const          2.5097      2.189      1.146      0.257      -1.894       6.914\n",
      "x1             0.7072      0.490      1.442      0.156      -0.279       1.694\n",
      "x2             9.2776      2.131      4.353      0.000       4.990      13.565\n",
      "==============================================================================\n",
      "Omnibus:                        0.104   Durbin-Watson:                   1.704\n",
      "Prob(Omnibus):                  0.949   Jarque-Bera (JB):                0.306\n",
      "Skew:                           0.036   Prob(JB):                        0.858\n",
      "Kurtosis:                       2.623   Cond. No.                         118.\n",
      "==============================================================================\n",
      "\n",
      "Notes:\n",
      "[1] Standard Errors assume that the covariance matrix of the errors is correctly specified.\n"
     ]
    }
   ],
   "source": [
    "result=sm.OLS(y,X).fit()\n",
    "print(result.summary())"
   ]
  },
  {
   "cell_type": "code",
   "execution_count": 12,
   "id": "c7cdf106-33cf-41d0-b5ca-81d4177a653f",
   "metadata": {},
   "outputs": [
    {
     "data": {
      "text/plain": [
       "array([2.50973984, 0.70717503, 9.27757672])"
      ]
     },
     "execution_count": 12,
     "metadata": {},
     "output_type": "execute_result"
    }
   ],
   "source": [
    "result.params"
   ]
  },
  {
   "cell_type": "code",
   "execution_count": 13,
   "id": "285fc2ff-af2d-4dba-a904-89e21d3b10ff",
   "metadata": {},
   "outputs": [
    {
     "data": {
      "text/plain": [
       "array([2.18915327, 0.49044175, 2.13130068])"
      ]
     },
     "execution_count": 13,
     "metadata": {},
     "output_type": "execute_result"
    }
   ],
   "source": [
    "result.bse"
   ]
  },
  {
   "cell_type": "code",
   "execution_count": 14,
   "id": "a8fa9ba8-aed9-4747-a4c7-f9120ec68bf4",
   "metadata": {},
   "outputs": [
    {
     "data": {
      "text/plain": [
       "array([1.14644318, 1.44191442, 4.35301167])"
      ]
     },
     "execution_count": 14,
     "metadata": {},
     "output_type": "execute_result"
    }
   ],
   "source": [
    "result.tvalues"
   ]
  },
  {
   "cell_type": "code",
   "execution_count": 15,
   "id": "09094ea9-060a-48e4-b422-b2bc77c8bb8c",
   "metadata": {},
   "outputs": [
    {
     "data": {
      "text/plain": [
       "array([2.57415109e-01, 1.55957191e-01, 7.20355804e-05])"
      ]
     },
     "execution_count": 15,
     "metadata": {},
     "output_type": "execute_result"
    }
   ],
   "source": [
    "result.pvalues"
   ]
  },
  {
   "cell_type": "code",
   "execution_count": null,
   "id": "62e198b1-6390-4e55-8f24-f813641f680d",
   "metadata": {},
   "outputs": [],
   "source": []
  },
  {
   "cell_type": "code",
   "execution_count": null,
   "id": "71f23618-c624-4b66-845c-ea82d78212c8",
   "metadata": {},
   "outputs": [],
   "source": []
  }
 ],
 "metadata": {
  "kernelspec": {
   "display_name": "Python 3 (ipykernel)",
   "language": "python",
   "name": "python3"
  },
  "language_info": {
   "codemirror_mode": {
    "name": "ipython",
    "version": 3
   },
   "file_extension": ".py",
   "mimetype": "text/x-python",
   "name": "python",
   "nbconvert_exporter": "python",
   "pygments_lexer": "ipython3",
   "version": "3.12.4"
  }
 },
 "nbformat": 4,
 "nbformat_minor": 5
}
