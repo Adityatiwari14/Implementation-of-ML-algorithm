{
 "cells": [
  {
   "cell_type": "code",
   "execution_count": null,
   "id": "3a80840e-4d12-42d5-91fa-556799a13bbc",
   "metadata": {},
   "outputs": [],
   "source": [
    "#https://github.com/codebasics/py/blob/master/ML/16_regularization/L1%20and%20L2%20Regularization.ipynb\n",
    "#https://github.com/krishnaik06/RegressionandLasso/blob/master/Lassoand%20Regression.ipynb"
   ]
  },
  {
   "cell_type": "code",
   "execution_count": 1,
   "id": "8b084ddb-c039-494e-8bdd-41838d018084",
   "metadata": {},
   "outputs": [],
   "source": [
    "import statsmodels.api as sm\n",
    "import pandas as pd\n",
    "import numpy as np\n",
    "import matplotlib.pyplot as plt\n",
    "np.random.seed(123)"
   ]
  },
  {
   "cell_type": "code",
   "execution_count": 3,
   "id": "3aa52b29-8561-4ac4-b711-3c952dbda67e",
   "metadata": {
    "scrolled": true
   },
   "outputs": [
    {
     "data": {
      "text/plain": [
       "{'data': array([[   8.3252    ,   41.        ,    6.98412698, ...,    2.55555556,\n",
       "           37.88      , -122.23      ],\n",
       "        [   8.3014    ,   21.        ,    6.23813708, ...,    2.10984183,\n",
       "           37.86      , -122.22      ],\n",
       "        [   7.2574    ,   52.        ,    8.28813559, ...,    2.80225989,\n",
       "           37.85      , -122.24      ],\n",
       "        ...,\n",
       "        [   1.7       ,   17.        ,    5.20554273, ...,    2.3256351 ,\n",
       "           39.43      , -121.22      ],\n",
       "        [   1.8672    ,   18.        ,    5.32951289, ...,    2.12320917,\n",
       "           39.43      , -121.32      ],\n",
       "        [   2.3886    ,   16.        ,    5.25471698, ...,    2.61698113,\n",
       "           39.37      , -121.24      ]]),\n",
       " 'target': array([4.526, 3.585, 3.521, ..., 0.923, 0.847, 0.894]),\n",
       " 'frame': None,\n",
       " 'target_names': ['MedHouseVal'],\n",
       " 'feature_names': ['MedInc',\n",
       "  'HouseAge',\n",
       "  'AveRooms',\n",
       "  'AveBedrms',\n",
       "  'Population',\n",
       "  'AveOccup',\n",
       "  'Latitude',\n",
       "  'Longitude'],\n",
       " 'DESCR': '.. _california_housing_dataset:\\n\\nCalifornia Housing dataset\\n--------------------------\\n\\n**Data Set Characteristics:**\\n\\n:Number of Instances: 20640\\n\\n:Number of Attributes: 8 numeric, predictive attributes and the target\\n\\n:Attribute Information:\\n    - MedInc        median income in block group\\n    - HouseAge      median house age in block group\\n    - AveRooms      average number of rooms per household\\n    - AveBedrms     average number of bedrooms per household\\n    - Population    block group population\\n    - AveOccup      average number of household members\\n    - Latitude      block group latitude\\n    - Longitude     block group longitude\\n\\n:Missing Attribute Values: None\\n\\nThis dataset was obtained from the StatLib repository.\\nhttps://www.dcc.fc.up.pt/~ltorgo/Regression/cal_housing.html\\n\\nThe target variable is the median house value for California districts,\\nexpressed in hundreds of thousands of dollars ($100,000).\\n\\nThis dataset was derived from the 1990 U.S. census, using one row per census\\nblock group. A block group is the smallest geographical unit for which the U.S.\\nCensus Bureau publishes sample data (a block group typically has a population\\nof 600 to 3,000 people).\\n\\nA household is a group of people residing within a home. Since the average\\nnumber of rooms and bedrooms in this dataset are provided per household, these\\ncolumns may take surprisingly large values for block groups with few households\\nand many empty houses, such as vacation resorts.\\n\\nIt can be downloaded/loaded using the\\n:func:`sklearn.datasets.fetch_california_housing` function.\\n\\n.. topic:: References\\n\\n    - Pace, R. Kelley and Ronald Barry, Sparse Spatial Autoregressions,\\n      Statistics and Probability Letters, 33 (1997) 291-297\\n'}"
      ]
     },
     "execution_count": 3,
     "metadata": {},
     "output_type": "execute_result"
    }
   ],
   "source": [
    "from sklearn.datasets import fetch_california_housing\n",
    "housing = fetch_california_housing()\n",
    "housing"
   ]
  },
  {
   "cell_type": "code",
   "execution_count": 5,
   "id": "7159d980-63e9-45d9-b177-a20f415d86f1",
   "metadata": {},
   "outputs": [
    {
     "name": "stdout",
     "output_type": "stream",
     "text": [
      "                            OLS Regression Results                            \n",
      "==============================================================================\n",
      "Dep. Variable:                      y   R-squared:                       0.776\n",
      "Model:                            OLS   Adj. R-squared:                  0.764\n",
      "Method:                 Least Squares   F-statistic:                     62.44\n",
      "Date:                Wed, 11 Sep 2024   Prob (F-statistic):           2.92e-07\n",
      "Time:                        12:54:11   Log-Likelihood:                -10.134\n",
      "No. Observations:                  20   AIC:                             24.27\n",
      "Df Residuals:                      18   BIC:                             26.26\n",
      "Df Model:                           1                                         \n",
      "Covariance Type:            nonrobust                                         \n",
      "==============================================================================\n",
      "                 coef    std err          t      P>|t|      [0.025      0.975]\n",
      "------------------------------------------------------------------------------\n",
      "const          1.0572      0.206      5.138      0.000       0.625       1.489\n",
      "x1             0.3813      0.048      7.902      0.000       0.280       0.483\n",
      "==============================================================================\n",
      "Omnibus:                        0.611   Durbin-Watson:                   1.058\n",
      "Prob(Omnibus):                  0.737   Jarque-Bera (JB):                0.664\n",
      "Skew:                           0.330   Prob(JB):                        0.718\n",
      "Kurtosis:                       2.398   Cond. No.                         9.67\n",
      "==============================================================================\n",
      "\n",
      "Notes:\n",
      "[1] Standard Errors assume that the covariance matrix of the errors is correctly specified.\n"
     ]
    }
   ],
   "source": [
    "topn = 20\n",
    "x = housing['data'][:topn,:1]\n",
    "X =sm.add_constant(x)\n",
    "y=housing['target'][:topn]\n",
    "res =sm.OLS(y,X).fit()\n",
    "print(res.summary())\n"
   ]
  },
  {
   "cell_type": "code",
   "execution_count": 6,
   "id": "91d37f9a-84fc-4bcd-a114-0aa5eea5823e",
   "metadata": {},
   "outputs": [
    {
     "data": {
      "text/plain": [
       "<matplotlib.collections.PathCollection at 0x1e87a1956d0>"
      ]
     },
     "execution_count": 6,
     "metadata": {},
     "output_type": "execute_result"
    },
    {
     "data": {
      "image/png": "[encoded data removed]",
      "text/plain": [
       "<Figure size 640x480 with 1 Axes>"
      ]
     },
     "metadata": {},
     "output_type": "display_data"
    }
   ],
   "source": [
    "x1 = housing['data'][:topn,0]\n",
    "y_hat = res.fittedvalues\n",
    "plt.scatter(x1,y_hat)"
   ]
  },
  {
   "cell_type": "code",
   "execution_count": 8,
   "id": "3b18d00e-b668-4c3d-8058-d2d326fe8baa",
   "metadata": {},
   "outputs": [
    {
     "name": "stdout",
     "output_type": "stream",
     "text": [
      "                            OLS Regression Results                            \n",
      "==============================================================================\n",
      "Dep. Variable:                      y   R-squared:                       0.796\n",
      "Model:                            OLS   Adj. R-squared:                  0.772\n",
      "Method:                 Least Squares   F-statistic:                     33.11\n",
      "Date:                Wed, 11 Sep 2024   Prob (F-statistic):           1.37e-06\n",
      "Time:                        12:57:39   Log-Likelihood:                -9.2232\n",
      "No. Observations:                  20   AIC:                             24.45\n",
      "Df Residuals:                      17   BIC:                             27.43\n",
      "Df Model:                           2                                         \n",
      "Covariance Type:            nonrobust                                         \n",
      "==============================================================================\n",
      "                 coef    std err          t      P>|t|      [0.025      0.975]\n",
      "------------------------------------------------------------------------------\n",
      "const         -0.1124      0.941     -0.119      0.906      -2.097       1.873\n",
      "x1             0.4253      0.059      7.247      0.000       0.301       0.549\n",
      "x2             0.0204      0.016      1.273      0.220      -0.013       0.054\n",
      "==============================================================================\n",
      "Omnibus:                        1.193   Durbin-Watson:                   1.175\n",
      "Prob(Omnibus):                  0.551   Jarque-Bera (JB):                1.051\n",
      "Skew:                           0.491   Prob(JB):                        0.591\n",
      "Kurtosis:                       2.455   Cond. No.                         505.\n",
      "==============================================================================\n",
      "\n",
      "Notes:\n",
      "[1] Standard Errors assume that the covariance matrix of the errors is correctly specified.\n"
     ]
    }
   ],
   "source": [
    "x = housing['data'][:topn,:2]\n",
    "X =sm.add_constant(x)\n",
    "y=housing['target'][:topn]\n",
    "res =sm.OLS(y,X).fit()\n",
    "print(res.summary())"
   ]
  },
  {
   "cell_type": "code",
   "execution_count": 9,
   "id": "cf66f2df-3e06-4914-a375-a58778924b3e",
   "metadata": {},
   "outputs": [
    {
     "data": {
      "text/plain": [
       "<matplotlib.collections.PathCollection at 0x1e87aad5880>"
      ]
     },
     "execution_count": 9,
     "metadata": {},
     "output_type": "execute_result"
    },
    {
     "data": {
      "image/png": "[encoded data removed]",
      "text/plain": [
       "<Figure size 640x480 with 1 Axes>"
      ]
     },
     "metadata": {},
     "output_type": "display_data"
    }
   ],
   "source": [
    "plt.scatter(x1,res.fittedvalues)"
   ]
  },
  {
   "cell_type": "code",
   "execution_count": 10,
   "id": "73397294-b2d0-4db0-a052-49eaa75c6c0b",
   "metadata": {},
   "outputs": [
    {
     "data": {
      "text/plain": [
       "<matplotlib.collections.PathCollection at 0x1e87ab51070>"
      ]
     },
     "execution_count": 10,
     "metadata": {},
     "output_type": "execute_result"
    },
    {
     "data": {
      "image/png": "[encoded data removed]",
      "text/plain": [
       "<Figure size 640x480 with 1 Axes>"
      ]
     },
     "metadata": {},
     "output_type": "display_data"
    }
   ],
   "source": [
    "# house Age\n",
    "x2=housing['data'][:topn,2]\n",
    "plt.scatter(x2,res.fittedvalues)"
   ]
  },
  {
   "cell_type": "code",
   "execution_count": 11,
   "id": "9b9ee487-7215-4e6a-9f49-d3efdcf74ee4",
   "metadata": {},
   "outputs": [
    {
     "name": "stdout",
     "output_type": "stream",
     "text": [
      "                            OLS Regression Results                            \n",
      "==============================================================================\n",
      "Dep. Variable:                      y   R-squared:                       0.847\n",
      "Model:                            OLS   Adj. R-squared:                  0.777\n",
      "Method:                 Least Squares   F-statistic:                     12.03\n",
      "Date:                Wed, 11 Sep 2024   Prob (F-statistic):           0.000118\n",
      "Time:                        13:00:37   Log-Likelihood:                -6.3046\n",
      "No. Observations:                  20   AIC:                             26.61\n",
      "Df Residuals:                      13   BIC:                             33.58\n",
      "Df Model:                           6                                         \n",
      "Covariance Type:            nonrobust                                         \n",
      "==============================================================================\n",
      "                 coef    std err          t      P>|t|      [0.025      0.975]\n",
      "------------------------------------------------------------------------------\n",
      "const          0.0179      3.635      0.005      0.996      -7.836       7.871\n",
      "x1             0.4674      0.115      4.067      0.001       0.219       0.716\n",
      "x2             0.0263      0.024      1.085      0.298      -0.026       0.079\n",
      "x3             0.0649      0.193      0.336      0.742      -0.352       0.482\n",
      "x4             1.3403      2.484      0.540      0.599      -4.026       6.707\n",
      "x5         -8.108e-05      0.000     -0.247      0.808      -0.001       0.001\n",
      "x6            -0.9980      0.538     -1.853      0.087      -2.161       0.165\n",
      "==============================================================================\n",
      "Omnibus:                        2.146   Durbin-Watson:                   2.067\n",
      "Prob(Omnibus):                  0.342   Jarque-Bera (JB):                1.369\n",
      "Skew:                           0.382   Prob(JB):                        0.504\n",
      "Kurtosis:                       1.971   Cond. No.                     4.92e+04\n",
      "==============================================================================\n",
      "\n",
      "Notes:\n",
      "[1] Standard Errors assume that the covariance matrix of the errors is correctly specified.\n",
      "[2] The condition number is large, 4.92e+04. This might indicate that there are\n",
      "strong multicollinearity or other numerical problems.\n"
     ]
    }
   ],
   "source": [
    "x = housing['data'][:topn,:6]\n",
    "X =sm.add_constant(x)\n",
    "y=housing['target'][:topn]\n",
    "res =sm.OLS(y,X).fit()\n",
    "print(res.summary())"
   ]
  },
  {
   "cell_type": "code",
   "execution_count": 12,
   "id": "58f004e6-d158-4ae0-afd2-0af16ee245a9",
   "metadata": {},
   "outputs": [
    {
     "data": {
      "text/plain": [
       "<matplotlib.collections.PathCollection at 0x1e87ad80350>"
      ]
     },
     "execution_count": 12,
     "metadata": {},
     "output_type": "execute_result"
    },
    {
     "data": {
      "image/png": "[encoded data removed]",
      "text/plain": [
       "<Figure size 640x480 with 1 Axes>"
      ]
     },
     "metadata": {},
     "output_type": "display_data"
    }
   ],
   "source": [
    "plt.scatter(x1,res.fittedvalues)"
   ]
  },
  {
   "cell_type": "code",
   "execution_count": 14,
   "id": "b9fbb650-0164-4f1e-ae83-91f92282f4f4",
   "metadata": {},
   "outputs": [],
   "source": [
    "# ridge regression\n",
    "x = housing['data'][:topn,:6]\n",
    "X =sm.add_constant(x)\n",
    "y=housing['target'][:topn]\n",
    "res = sm.OLS(y,X).fit_regularized(alpha = 0.5,L1_wt=0)\n",
    "# L1_wt penalty and value between 0 to 1 ; 0 for ridge and 1 for lasso fit \n",
    "#alpha value is a lamba value\n",
    "\n",
    "\n"
   ]
  },
  {
   "cell_type": "code",
   "execution_count": 15,
   "id": "524c7df1-a33d-436f-aeab-9f0436de392e",
   "metadata": {},
   "outputs": [
    {
     "data": {
      "text/plain": [
       "<matplotlib.collections.PathCollection at 0x1e87ab32bd0>"
      ]
     },
     "execution_count": 15,
     "metadata": {},
     "output_type": "execute_result"
    },
    {
     "data": {
      "image/png": "[encoded data removed]",
      "text/plain": [
       "<Figure size 640x480 with 1 Axes>"
      ]
     },
     "metadata": {},
     "output_type": "display_data"
    }
   ],
   "source": [
    "plt.scatter(x1,res.fittedvalues)"
   ]
  },
  {
   "cell_type": "code",
   "execution_count": 16,
   "id": "b8a078c7-648c-431f-ba0f-66a0ddd198e2",
   "metadata": {},
   "outputs": [
    {
     "data": {
      "text/plain": [
       "array([ 9.43710490e-03,  3.45901690e-01,  1.64002452e-02,  7.62706124e-02,\n",
       "        1.17731611e-02,  4.47719623e-05, -3.94367829e-02])"
      ]
     },
     "execution_count": 16,
     "metadata": {},
     "output_type": "execute_result"
    }
   ],
   "source": [
    "res.params"
   ]
  },
  {
   "cell_type": "code",
   "execution_count": 17,
   "id": "f6bbc4c7-66d8-4142-879e-645ac1cced0d",
   "metadata": {},
   "outputs": [],
   "source": [
    "# lasso"
   ]
  },
  {
   "cell_type": "code",
   "execution_count": 21,
   "id": "404191c5-895d-4e1e-8550-5e9c96d97685",
   "metadata": {},
   "outputs": [],
   "source": [
    "x = housing['data'][:topn,:6]\n",
    "X = sm.add_constant(x)\n",
    "y= housing['target'][:topn]\n",
    "res=sm.OLS(y,X).fit_regularized(alpha = 0.8 ,L1_wt = 1)"
   ]
  },
  {
   "cell_type": "code",
   "execution_count": 22,
   "id": "6579939e-c79c-4c53-9b95-49aed91814ce",
   "metadata": {},
   "outputs": [
    {
     "data": {
      "text/plain": [
       "<matplotlib.collections.PathCollection at 0x1e87ac84ef0>"
      ]
     },
     "execution_count": 22,
     "metadata": {},
     "output_type": "execute_result"
    },
    {
     "data": {
      "image/png": "[encoded data removed]",
      "text/plain": [
       "<Figure size 640x480 with 1 Axes>"
      ]
     },
     "metadata": {},
     "output_type": "display_data"
    }
   ],
   "source": [
    "plt.scatter(x1,res.fittedvalues)"
   ]
  },
  {
   "cell_type": "code",
   "execution_count": 23,
   "id": "5e3a1472-78d5-4432-9ec0-52aa9ecb9ebd",
   "metadata": {},
   "outputs": [
    {
     "data": {
      "text/plain": [
       "array([0.        , 0.25907503, 0.02508605, 0.        , 0.        ,\n",
       "       0.00026565, 0.        ])"
      ]
     },
     "execution_count": 23,
     "metadata": {},
     "output_type": "execute_result"
    }
   ],
   "source": [
    "res.params"
   ]
  },
  {
   "cell_type": "code",
   "execution_count": 24,
   "id": "70646548-e32e-4dde-b394-557be0171a95",
   "metadata": {},
   "outputs": [],
   "source": [
    "#elastic net regression"
   ]
  },
  {
   "cell_type": "code",
   "execution_count": 25,
   "id": "cd58b241-294d-4c6e-beb5-31d08fdaa233",
   "metadata": {},
   "outputs": [],
   "source": [
    "x = housing['data'][:topn,:6]\n",
    "X = sm.add_constant(x)\n",
    "y= housing['target'][:topn]\n",
    "res=sm.OLS(y,X).fit_regularized(alpha = 0.8 ,L1_wt = 0.5)"
   ]
  },
  {
   "cell_type": "code",
   "execution_count": 26,
   "id": "52a735af-0e95-4958-9336-75d6bb186d04",
   "metadata": {},
   "outputs": [
    {
     "data": {
      "text/plain": [
       "<matplotlib.collections.PathCollection at 0x1e87ab33380>"
      ]
     },
     "execution_count": 26,
     "metadata": {},
     "output_type": "execute_result"
    },
    {
     "data": {
      "image/png": "[encoded data removed]",
      "text/plain": [
       "<Figure size 640x480 with 1 Axes>"
      ]
     },
     "metadata": {},
     "output_type": "display_data"
    }
   ],
   "source": [
    "plt.scatter(x1,res.fittedvalues)"
   ]
  },
  {
   "cell_type": "code",
   "execution_count": 27,
   "id": "88dd79ef-2982-435f-80d0-ba9b1f19c243",
   "metadata": {},
   "outputs": [
    {
     "data": {
      "text/plain": [
       "array([0.00000000e+00, 3.13156452e-01, 2.30308688e-02, 0.00000000e+00,\n",
       "       0.00000000e+00, 1.70891629e-04, 0.00000000e+00])"
      ]
     },
     "execution_count": 27,
     "metadata": {},
     "output_type": "execute_result"
    }
   ],
   "source": [
    "res.params"
   ]
  },
  {
   "cell_type": "code",
   "execution_count": 28,
   "id": "7f13eccc-e3de-4a0f-bec8-bc3f4a4bfb21",
   "metadata": {},
   "outputs": [],
   "source": [
    "#more wieght to l1\n",
    "x = housing['data'][:topn,:6]\n",
    "X = sm.add_constant(x)\n",
    "y= housing['target'][:topn]\n",
    "res=sm.OLS(y,X).fit_regularized(alpha = 0.8 ,L1_wt = 0.8)"
   ]
  },
  {
   "cell_type": "code",
   "execution_count": 29,
   "id": "62dbf8f7-a70a-485e-b06c-eeab1e71ca9f",
   "metadata": {},
   "outputs": [
    {
     "data": {
      "text/plain": [
       "<matplotlib.collections.PathCollection at 0x1e87ab50bc0>"
      ]
     },
     "execution_count": 29,
     "metadata": {},
     "output_type": "execute_result"
    },
    {
     "data": {
      "image/png": "[encoded data removed]",
      "text/plain": [
       "<Figure size 640x480 with 1 Axes>"
      ]
     },
     "metadata": {},
     "output_type": "display_data"
    }
   ],
   "source": [
    "plt.scatter(x1,res.fittedvalues)"
   ]
  },
  {
   "cell_type": "code",
   "execution_count": 30,
   "id": "3ddd3dfc-a1be-44cf-a81e-1e1c3c1ce0b4",
   "metadata": {},
   "outputs": [
    {
     "data": {
      "text/plain": [
       "array([0.00000000e+00, 2.81771662e-01, 2.42133319e-02, 0.00000000e+00,\n",
       "       0.00000000e+00, 2.26281233e-04, 0.00000000e+00])"
      ]
     },
     "execution_count": 30,
     "metadata": {},
     "output_type": "execute_result"
    }
   ],
   "source": [
    "res.params"
   ]
  },
  {
   "cell_type": "code",
   "execution_count": 31,
   "id": "4667684a-76a6-40de-ae85-ff611aebc1bb",
   "metadata": {},
   "outputs": [],
   "source": [
    "x = housing['data'][:topn,:6]\n",
    "X = sm.add_constant(x)\n",
    "y= housing['target'][:topn]\n",
    "res=sm.OLS(y,X).fit_regularized(alpha = 0.8 ,L1_wt = 0.2)"
   ]
  },
  {
   "cell_type": "code",
   "execution_count": 32,
   "id": "99e347be-5610-4b44-b532-fab80e9f82d3",
   "metadata": {},
   "outputs": [
    {
     "data": {
      "text/plain": [
       "array([0.00000000e+00, 3.41730420e-01, 2.19821615e-02, 0.00000000e+00,\n",
       "       0.00000000e+00, 1.19381790e-04, 0.00000000e+00])"
      ]
     },
     "execution_count": 32,
     "metadata": {},
     "output_type": "execute_result"
    }
   ],
   "source": [
    "res.params"
   ]
  },
  {
   "cell_type": "code",
   "execution_count": 33,
   "id": "69dbfed3-ae65-47f1-8cd3-6d92b4165162",
   "metadata": {},
   "outputs": [],
   "source": [
    "#use res.predict(test dataa) to pridict the data"
   ]
  },
  {
   "cell_type": "code",
   "execution_count": null,
   "id": "0dde951c-9d46-47f0-b10f-9d4f0bfd83f2",
   "metadata": {},
   "outputs": [],
   "source": []
  }
 ],
 "metadata": {
  "kernelspec": {
   "display_name": "Python 3 (ipykernel)",
   "language": "python",
   "name": "python3"
  },
  "language_info": {
   "codemirror_mode": {
    "name": "ipython",
    "version": 3
   },
   "file_extension": ".py",
   "mimetype": "text/x-python",
   "name": "python",
   "nbconvert_exporter": "python",
   "pygments_lexer": "ipython3",
   "version": "3.12.4"
  }
 },
 "nbformat": 4,
 "nbformat_minor": 5
}
