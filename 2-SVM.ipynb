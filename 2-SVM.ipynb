{
 "cells": [
  {
   "cell_type": "code",
   "execution_count": 3,
   "id": "73ec2e08-a5f5-47af-9cf7-840dcd92adb2",
   "metadata": {},
   "outputs": [],
   "source": [
    "#https://github.com/krishnaik06/SVM-Kernels\n",
    "# read allof these to understand important\n"
   ]
  },
  {
   "cell_type": "code",
   "execution_count": null,
   "id": "bbd0166b-e022-4c13-bfa6-e7c7f67b0125",
   "metadata": {},
   "outputs": [],
   "source": []
  },
  {
   "cell_type": "code",
   "execution_count": null,
   "id": "f64c43a5-f00b-4336-b863-bb48a8b30377",
   "metadata": {},
   "outputs": [],
   "source": []
  }
 ],
 "metadata": {
  "kernelspec": {
   "display_name": "Python 3 (ipykernel)",
   "language": "python",
   "name": "python3"
  },
  "language_info": {
   "codemirror_mode": {
    "name": "ipython",
    "version": 3
   },
   "file_extension": ".py",
   "mimetype": "text/x-python",
   "name": "python",
   "nbconvert_exporter": "python",
   "pygments_lexer": "ipython3",
   "version": "3.12.4"
  }
 },
 "nbformat": 4,
 "nbformat_minor": 5
}
